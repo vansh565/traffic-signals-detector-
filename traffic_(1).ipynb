{
  "cells": [
    {
      "cell_type": "markdown",
      "metadata": {
        "id": "view-in-github",
        "colab_type": "text"
      },
      "source": [
        "<a href=\"https://colab.research.google.com/github/vansh565/traffic-signals-detector-/blob/main/traffic_(1).ipynb\" target=\"_parent\"><img src=\"https://colab.research.google.com/assets/colab-badge.svg\" alt=\"Open In Colab\"/></a>"
      ]
    },
    {
      "cell_type": "code",
      "execution_count": null,
      "metadata": {
        "colab": {
          "base_uri": "https://localhost:8080/"
        },
        "id": "KDyylC6N9_lG",
        "outputId": "9105220f-2a86-41a5-bcbf-f14b7bfa9db3"
      },
      "outputs": [
        {
          "name": "stdout",
          "output_type": "stream",
          "text": [
            "Mounted at /content/drive\n"
          ]
        }
      ],
      "source": [
        "from google.colab import drive\n",
        "drive.mount('/content/drive')"
      ]
    },
    {
      "cell_type": "code",
      "execution_count": null,
      "metadata": {
        "colab": {
          "base_uri": "https://localhost:8080/"
        },
        "id": "Z85cmEmTAHgl",
        "outputId": "d0a9d003-3bcb-4d3a-a39c-7ecb81977e9b"
      },
      "outputs": [
        {
          "name": "stdout",
          "output_type": "stream",
          "text": [
            " Classroom\t\t\t imgtopdf_1909242225053.pdf\n",
            "'Colab Notebooks'\t\t'Mindluster_Certificate 6 (1).pdf'\n",
            "'Getting started.pdf'\t\t'Mindluster_Certificate 6.pdf'\n",
            " gtsrb-german-traffic-sign.zip\t traffic_signs\n",
            " IMG_3332.heic\t\t\t'Untitled folder'\n",
            " IMG_3332.HEIC\t\t\t'VANSH 2.pdf'\n",
            " IMG_3333.jpeg\t\t\t'Web Development Training - Certificate of Completion (1).pdf'\n"
          ]
        }
      ],
      "source": [
        "!ls /content/drive/MyDrive"
      ]
    },
    {
      "cell_type": "code",
      "execution_count": null,
      "metadata": {
        "colab": {
          "base_uri": "https://localhost:8080/"
        },
        "id": "-4kbb1_x-oKk",
        "outputId": "3343e1dc-d97f-4d3e-efad-05cd5dd8ef3a"
      },
      "outputs": [
        {
          "name": "stdout",
          "output_type": "stream",
          "text": [
            "cp: cannot stat '/content/drive/MyDrive/kaggle.json': No such file or directory\n",
            "chmod: cannot access '/root/.kaggle/kaggle.json': No such file or directory\n"
          ]
        }
      ],
      "source": [
        "!mkdir -p ~/.kaggle\n",
        "!cp /content/drive/MyDrive/kaggle.json ~/.kaggle/\n",
        "!chmod 600 ~/.kaggle/kaggle.json"
      ]
    },
    {
      "cell_type": "code",
      "execution_count": null,
      "metadata": {
        "colab": {
          "base_uri": "https://localhost:8080/"
        },
        "id": "Ljf3rKHqBlIP",
        "outputId": "26c4248a-ed46-4b3e-ce12-dadb3c4c93e5"
      },
      "outputs": [
        {
          "name": "stdout",
          "output_type": "stream",
          "text": [
            "Dataset URL: https://www.kaggle.com/datasets/meowmeowmeowmeowmeow/gtsrb-german-traffic-sign\n",
            "License(s): CC0-1.0\n",
            "Downloading gtsrb-german-traffic-sign.zip to /content\n",
            "100% 611M/612M [00:03<00:00, 229MB/s]\n",
            "100% 612M/612M [00:03<00:00, 199MB/s]\n"
          ]
        }
      ],
      "source": [
        "!kaggle datasets download -d meowmeowmeowmeowmeow/gtsrb-german-traffic-sign"
      ]
    },
    {
      "cell_type": "code",
      "execution_count": null,
      "metadata": {
        "id": "DRqMYN7hCm6I"
      },
      "outputs": [],
      "source": [
        "!mv gtsrb-german-traffic-sign.zip /content/drive/My\\ Drive/"
      ]
    },
    {
      "cell_type": "code",
      "execution_count": null,
      "metadata": {
        "colab": {
          "background_save": true,
          "base_uri": "https://localhost:8080/"
        },
        "collapsed": true,
        "id": "HLccZFPFCw3Q",
        "outputId": "c0d7abc4-4782-4c33-862b-7bd8592508e3"
      },
      "outputs": [
        {
          "name": "stdout",
          "output_type": "stream",
          "text": [
            "Archive:  /content/drive/My Drive/gtsrb-german-traffic-sign.zip\n",
            "replace /content/drive/My Drive/traffic_signs/Meta.csv? [y]es, [n]o, [A]ll, [N]one, [r]ename: "
          ]
        }
      ],
      "source": [
        "!unzip /content/drive/My\\ Drive/gtsrb-german-traffic-sign.zip -d /content/drive/My\\ Drive/traffic_signs"
      ]
    },
    {
      "cell_type": "code",
      "execution_count": null,
      "metadata": {
        "id": "Qdk7AujgJilN"
      },
      "outputs": [],
      "source": [
        "dataset_path = '/content/drive/My Drive/traffic_signs/'"
      ]
    },
    {
      "cell_type": "code",
      "execution_count": null,
      "metadata": {
        "id": "SMOaNpRuJU0s"
      },
      "outputs": [],
      "source": [
        "import pandas as pd\n",
        "meta_data = pd.read_csv(dataset_path+'Meta.csv')\n",
        "train_data = pd.read_csv(dataset_path+'Train.csv')\n",
        "test_data = pd.read_csv(dataset_path+'Test.csv')\n",
        "print(train_data.head())\n"
      ]
    },
    {
      "cell_type": "code",
      "execution_count": null,
      "metadata": {
        "id": "WFSwZN4IKBEv"
      },
      "outputs": [],
      "source": [
        "import cv2\n",
        "import matplotlib.pyplot as plt\n",
        "def visualize_image_with_bbox(data_row, img_folder):\n",
        "    img_path = f\"{img_folder}/{data_row['Path']}\"\n",
        "    img = cv2.imread(img_path)\n",
        "    img = cv2.cvtColor(img, cv2.COLOR_BGR2RGB)\n",
        "    x1, y1 = data_row['Roi.X1'], data_row['Roi.Y1']\n",
        "    x2, y2 = data_row['Roi.X2'], data_row['Roi.Y2']\n",
        "    cv2.rectangle(img, (x1, y1), (x2, y2), (255, 0, 0), 2)\n",
        "    plt.imshow(img)\n",
        "    plt.title(f\"Class ID: {data_row['ClassId']}\")\n",
        "    plt.axis('off')\n",
        "    plt.show()\n",
        "visualize_image_with_bbox(train_data.iloc[0], dataset_path)\n"
      ]
    },
    {
      "cell_type": "code",
      "execution_count": null,
      "metadata": {
        "collapsed": true,
        "id": "iq4uZI18LCG2"
      },
      "outputs": [],
      "source": [
        "!pip install keras"
      ]
    },
    {
      "cell_type": "code",
      "execution_count": null,
      "metadata": {
        "id": "6BnID55UK7X3"
      },
      "outputs": [],
      "source": [
        "import os\n",
        "from tensorflow.keras.preprocessing.image import load_img, img_to_array\n",
        "import numpy as np\n",
        "def crop_and_resize(data, img_folder, target_size=(64, 64)):\n",
        "    images = []\n",
        "    labels = []\n",
        "\n",
        "    for _, row in data.iterrows():\n",
        "        img_path = os.path.join(img_folder, row['Path'])\n",
        "        img = cv2.imread(img_path)\n",
        "        x1, y1, x2, y2 = row['Roi.X1'], row['Roi.Y1'], row['Roi.X2'], row['Roi.Y2']\n",
        "        cropped_img = img[y1:y2, x1:x2]\n",
        "        resized_img = cv2.resize(cropped_img, target_size)\n",
        "        images.append(resized_img / 255.0)\n",
        "        labels.append(row['ClassId'])\n",
        "\n",
        "    return np.array(images), np.array(labels)\n",
        "\n",
        "train_images, train_labels = crop_and_resize(train_data, dataset_path)\n",
        "test_images, test_labels = crop_and_resize(test_data, dataset_path)\n"
      ]
    },
    {
      "cell_type": "code",
      "execution_count": null,
      "metadata": {
        "id": "GaTR-RXUN3Z7"
      },
      "outputs": [],
      "source": [
        "from tensorflow.keras.utils import to_categorical\n",
        "from sklearn.preprocessing import LabelEncoder\n",
        "\n",
        "label_encoder = LabelEncoder()\n",
        "train_labels_encoded = label_encoder.fit_transform(train_labels)\n",
        "test_labels_encoded = label_encoder.transform(test_labels)\n",
        "\n",
        "train_labels_categorical = to_categorical(train_labels_encoded)\n",
        "test_labels_categorical = to_categorical(test_labels_encoded)"
      ]
    },
    {
      "cell_type": "code",
      "execution_count": null,
      "metadata": {
        "id": "UXbIe8ZrN7By"
      },
      "outputs": [],
      "source": [
        "from tensorflow.keras.models import Sequential\n",
        "from tensorflow.keras.layers import Conv2D, MaxPooling2D, Flatten, Dense, Dropout\n",
        "\n",
        "model = Sequential([\n",
        "    Conv2D(32, (3, 3), activation='relu', input_shape=(64, 64, 3)),\n",
        "    MaxPooling2D(pool_size=(2, 2)),\n",
        "    Conv2D(64, (3, 3), activation='relu'),\n",
        "    MaxPooling2D(pool_size=(2, 2)),\n",
        "    Conv2D(128, (3, 3), activation='relu'),\n",
        "    MaxPooling2D(pool_size=(2, 2)),\n",
        "    Flatten(),\n",
        "    Dense(256, activation='relu'),\n",
        "    Dropout(0.5),\n",
        "    Dense(len(label_encoder.classes_), activation='softmax')\n",
        "])\n"
      ]
    },
    {
      "cell_type": "code",
      "execution_count": null,
      "metadata": {
        "id": "ezHy5R4zOECm"
      },
      "outputs": [],
      "source": [
        "model.compile(optimizer='adam',\n",
        "              loss='categorical_crossentropy',\n",
        "              metrics=['accuracy'])\n",
        "\n",
        "history = model.fit(\n",
        "    train_images, train_labels_categorical,\n",
        "    validation_data=(test_images, test_labels_categorical),\n",
        "    epochs=15,\n",
        "    batch_size=32\n",
        ")"
      ]
    },
    {
      "cell_type": "code",
      "execution_count": null,
      "metadata": {
        "id": "UHEUg44uQ7nl"
      },
      "outputs": [],
      "source": [
        "test_loss, test_acc = model.evaluate(test_images, test_labels_categorical)\n",
        "print(f\"Test Accuracy: {test_acc:.2f}\")\n"
      ]
    },
    {
      "cell_type": "code",
      "execution_count": null,
      "metadata": {
        "id": "duZ1ZAkgjSV9"
      },
      "outputs": [],
      "source": [
        "!kaggle datasets download -d ganeshishwarpatil/gtsrblabel-names"
      ]
    },
    {
      "cell_type": "code",
      "execution_count": null,
      "metadata": {
        "id": "cyd0gtUqjXlZ"
      },
      "outputs": [],
      "source": [
        "!mv gtsrblabel-names.zip /content/drive/My\\ Drive/"
      ]
    },
    {
      "cell_type": "code",
      "execution_count": null,
      "metadata": {
        "id": "Ua4_-sy5jmyU"
      },
      "outputs": [],
      "source": [
        "!unzip /content/drive/My\\ Drive/gtsrblabel-names.zip -d /content/drive/My\\ Drive/traffic_signs_labels"
      ]
    },
    {
      "cell_type": "code",
      "execution_count": null,
      "metadata": {
        "id": "geI6Yng2jvYz"
      },
      "outputs": [],
      "source": [
        "label_path = '/content/drive/My Drive/traffic_signs_labels/'"
      ]
    },
    {
      "cell_type": "code",
      "execution_count": null,
      "metadata": {
        "id": "SOCRqMc1j7Eq"
      },
      "outputs": [],
      "source": [
        "import pandas as pd\n",
        "labels = pd.read_csv(label_path+'label_names.csv')\n",
        "print(labels.head())"
      ]
    },
    {
      "cell_type": "code",
      "execution_count": null,
      "metadata": {
        "id": "nHCc5t01kqt_"
      },
      "outputs": [],
      "source": [
        "def get_label(class_id):\n",
        "    label = labels[labels['ClassId'] == class_id]['SignName'].values\n",
        "    if len(label) > 0:\n",
        "        return label[0]\n",
        "    else:\n",
        "        return \"Unknown\""
      ]
    },
    {
      "cell_type": "code",
      "execution_count": null,
      "metadata": {
        "id": "sePsQ868k2r_"
      },
      "outputs": [],
      "source": [
        "from tensorflow.keras.preprocessing.image import load_img, img_to_array\n",
        "import numpy as np\n",
        "#apne google drive pe image upload karke, yahan uska path likh dena\n",
        "image_path = '/content/drive/MyDrive/traffic_signs/Test/00001.png'\n",
        "img = load_img(image_path, target_size=(64, 64))\n",
        "img_array = img_to_array(img)\n",
        "img_array = img_array / 255.0\n",
        "img_array = np.expand_dims(img_array, axis=0)\n",
        "predictions = model.predict(img_array)\n",
        "predicted_class = np.argmax(predictions, axis=1)\n",
        "img = cv2.imread(image_path)\n",
        "img = cv2.cvtColor(img, cv2.COLOR_BGR2RGB)\n",
        "cv2.rectangle(img, (64, 64), (64, 64), (255, 0, 0), 2)\n",
        "plt.imshow(img)\n",
        "plt.title(f\"Your Image\")\n",
        "plt.axis('off')\n",
        "plt.show()\n",
        "print(f\"Predicted Class ID: {predicted_class[0]}\")\n",
        "label = get_label(predicted_class[0])\n",
        "print(f\"Predicted Sign: {label}\")"
      ]
    }
  ],
  "metadata": {
    "colab": {
      "gpuType": "T4",
      "provenance": [],
      "include_colab_link": true
    },
    "kernelspec": {
      "display_name": "Python 3",
      "name": "python3"
    },
    "language_info": {
      "name": "python"
    }
  },
  "nbformat": 4,
  "nbformat_minor": 0
}